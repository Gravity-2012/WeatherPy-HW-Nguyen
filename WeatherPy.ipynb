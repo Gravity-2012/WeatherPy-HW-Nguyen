{
 "cells": [
  {
   "cell_type": "markdown",
   "metadata": {},
   "source": [
    "# WeatherPy\n",
    "----\n",
    "\n",
    "#### Note\n",
    "* Instructions have been included for each segment. You do not have to follow them exactly, but they are included to help you think through the steps."
   ]
  },
  {
   "cell_type": "code",
   "execution_count": null,
   "metadata": {
    "scrolled": true
   },
   "outputs": [],
   "source": [
    "# Dependencies and Setup\n",
    "# add csv to save documents into csv\n",
    "# add os to write to csv\n",
    "import csv\n",
    "import os\n",
    "import matplotlib.pyplot as plt\n",
    "import pandas as pd\n",
    "import numpy as np\n",
    "import requests\n",
    "import time\n",
    "\n",
    "# Import API key\n",
    "from api_keys import api_key\n",
    "\n",
    "# Incorporated citipy to determine city based on latitude and longitude\n",
    "from citipy import citipy\n",
    "\n",
    "# Output File (CSV)\n",
    "output_data_file = \"output_data/cities.csv\"\n",
    "\n",
    "# Range of latitudes and longitudes\n",
    "lat_range = (-90, 90)\n",
    "lng_range = (-180, 180)"
   ]
  },
  {
   "cell_type": "markdown",
   "metadata": {},
   "source": [
    "## Generate Cities List"
   ]
  },
  {
   "cell_type": "code",
   "execution_count": null,
   "metadata": {},
   "outputs": [],
   "source": [
    "# List for holding lat_lngs and cities\n",
    "lat_lngs = []\n",
    "cities = []\n",
    "\n",
    "# Create a set of random lat and lng combinations\n",
    "lats = np.random.uniform(low=-90.000, high=90.000, size=1500)\n",
    "lngs = np.random.uniform(low=-180.000, high=180.000, size=1500)\n",
    "lat_lngs = zip(lats, lngs)\n",
    "\n",
    "# Identify nearest city for each lat, lng combination\n",
    "for lat_lng in lat_lngs:\n",
    "    city = citipy.nearest_city(lat_lng[0], lat_lng[1]).city_name\n",
    "    \n",
    "    # If the city is unique, then add it to a our cities list\n",
    "    if city not in cities:\n",
    "        cities.append(city)\n",
    "\n",
    "# Print the city count to confirm sufficient count\n",
    "len(cities)"
   ]
  },
  {
   "cell_type": "markdown",
   "metadata": {},
   "source": [
    "### Perform API Calls\n",
    "* Perform a weather check on each city using a series of successive API calls.\n",
    "* Include a print log of each city as it'sbeing processed (with the city number and city name).\n"
   ]
  },
  {
   "cell_type": "code",
   "execution_count": null,
   "metadata": {},
   "outputs": [],
   "source": [
    "# base URL from openweathermap.com\n",
    "url = \"http://api.openweathermap.org/data/2.5/weather?\"\n",
    "\n",
    "# query url without city\n",
    "query_url = url + \"appid=\" + api_key + \"&units=imperial\" + \"&q=\"\n",
    "query_url"
   ]
  },
  {
   "cell_type": "code",
   "execution_count": null,
   "metadata": {},
   "outputs": [],
   "source": [
    "# test query url on a random city (Tokyo)\n",
    "city = \"tokyo\"\n",
    "test_query_url = query_url + city\n",
    "\n",
    "# convert to .json() to see all the variables\n",
    "# from this list, we need:\n",
    "# temp\n",
    "# humidity\n",
    "# clouds\n",
    "# wind\n",
    "weather_response = requests.get(test_query_url)\n",
    "weather_json = weather_response.json()\n",
    "weather_json"
   ]
  },
  {
   "cell_type": "code",
   "execution_count": null,
   "metadata": {},
   "outputs": [],
   "source": [
    "# build lists to hold .append data\n",
    "city_list = []\n",
    "cloudiness_list = []\n",
    "country_list = []\n",
    "date_list = []\n",
    "humidity_list = []\n",
    "lat_list = []\n",
    "lng_list = []\n",
    "max_temp_list = []\n",
    "wind_speed_list = []\n",
    "\n",
    "# set counters for records (50 records), and then for sets (varies)\n",
    "record_count = 1\n",
    "set_count = 1\n",
    "\n",
    "# Specify the file to txt to\n",
    "output_path = os.path.join(\"..\", \"Images\", \"What_Is_The_Weather_Like.txt\")\n",
    "# Open the file using \"write\" mode. Specify the variable to hold the contents\n",
    "with open(output_path, 'w', newline ='') as txtfile:\n",
    "    # Initialize txt.writer\n",
    "    #txtwriter = txt.writer(txtfile)\n",
    "    \n",
    "    txtfile.write(\"Beginning Data Retrieval \\n\")\n",
    "    txtfile.write(\"----------------------------- \\n\")\n",
    "\n",
    "    print(\"Beginning Data Retrieval\")\n",
    "    print(\"-----------------------------\")\n",
    "                       \n",
    "    # for loop\n",
    "    # \"i\" is the variable that is going to hold the numerical value of what city you're in (integer value)\n",
    "    # cities is going to represent the value (string value)\n",
    "    for i, city in enumerate(cities):\n",
    "        # using modulus to record set_count and record_count\n",
    "        # if i goes into 50 evenly, and i is >= 50 (use this to create sets and to restart record_count back to 0\n",
    "        if(i % 50 == 0 and i >= 50):\n",
    "            set_count += 1\n",
    "            record_count = 0\n",
    "    \n",
    "        # set record_count\n",
    "        record_count += 1\n",
    "    \n",
    "        # build query\n",
    "        city_url = query_url + city\n",
    "        print(f'Processing Record {record_count} of Set {set_count} | {city}')\n",
    "    \n",
    "        txtfile.write(f'Processing Record {record_count} of Set {set_count} | {city} \\n')\n",
    "        # start try & except statement\n",
    "        try:\n",
    "            response = requests.get(query_url + city).json()\n",
    "            city_list.append(response[\"name\"])\n",
    "            cloudiness_list.append(response[\"clouds\"][\"all\"])\n",
    "            country_list.append(response[\"sys\"][\"country\"])\n",
    "            date_list.append(response[\"dt\"])\n",
    "            humidity_list.append(response[\"main\"][\"humidity\"])\n",
    "            lat_list.append(response[\"coord\"][\"lat\"])\n",
    "            lng_list.append(response[\"coord\"][\"lon\"])\n",
    "            max_temp_list.append(response[\"main\"][\"temp_max\"])\n",
    "            wind_speed_list.append(response[\"wind\"][\"speed\"])\n",
    "    \n",
    "        # except statement\n",
    "        # need the pass to continue on\n",
    "        except:\n",
    "            print(\"City not found. Skipping...\")\n",
    "            txtfile.write(\"City not found. Skipping...\")\n",
    "            pass\n",
    "\n",
    "    print(\"-----------------------------\")\n",
    "    print(\"Data Retrieval Complete\")\n",
    "    print(\"-----------------------------\")    \n",
    "\n",
    "    txtfile.write(\"----------------------------- \\n\")\n",
    "    txtfile.write(\"Data Retrieval Complete \\n\")\n",
    "    txtfile.write(\"-----------------------------\")\n",
    "    \n",
    "# create a dictionary of all the list\n",
    "# should be 9 columns total\n",
    "weather_dictionary = {\"City\": city_list,\n",
    "                      \"Cloudiness\": cloudiness_list,\n",
    "                      \"Country\": country_list,\n",
    "                      \"Date\": date_list,\n",
    "                      \"Humidity\": humidity_list,\n",
    "                      \"Lat\": lat_list,\n",
    "                      \"Lng\": lng_list,\n",
    "                      \"Max_Temp\": max_temp_list,\n",
    "                      \"Wind_Speed\": wind_speed_list}"
   ]
  },
  {
   "cell_type": "markdown",
   "metadata": {},
   "source": [
    "### Convert Raw Data to DataFrame\n",
    "* Export the city data into a .csv.\n",
    "* Display the DataFrame"
   ]
  },
  {
   "cell_type": "code",
   "execution_count": null,
   "metadata": {},
   "outputs": [],
   "source": [
    "# convert dictionary into a data frame\n",
    "weather_df = pd.DataFrame(weather_dictionary)"
   ]
  },
  {
   "cell_type": "code",
   "execution_count": null,
   "metadata": {
    "scrolled": true
   },
   "outputs": [],
   "source": [
    "# verify the number of rows in the weather_df\n",
    "# this number should be less than the number in cities due to missing cities\n",
    "weather_df.count()"
   ]
  },
  {
   "cell_type": "code",
   "execution_count": null,
   "metadata": {},
   "outputs": [],
   "source": [
    "# display the weater_df to look at all the columns\n",
    "weather_df.head()"
   ]
  },
  {
   "cell_type": "markdown",
   "metadata": {},
   "source": [
    "### Plotting the Data\n",
    "* Use proper labeling of the plots using plot titles (including date of analysis) and axes labels.\n",
    "* Save the plotted figures as .pngs."
   ]
  },
  {
   "cell_type": "markdown",
   "metadata": {},
   "source": [
    "#### Latitude vs. Temperature Plot"
   ]
  },
  {
   "cell_type": "code",
   "execution_count": null,
   "metadata": {},
   "outputs": [],
   "source": [
    "# set latitude and max temperature\n",
    "lat_coordinates = weather_df[\"Lat\"]\n",
    "max_temperature = weather_df[\"Max_Temp\"]"
   ]
  },
  {
   "cell_type": "code",
   "execution_count": null,
   "metadata": {},
   "outputs": [],
   "source": [
    "# create a scatter plot based upon the above data\n",
    "plt.scatter(lat_coordinates, max_temperature, marker=\"o\", facecolors=\"steelblue\", edgecolors=\"black\")\n",
    "\n",
    "# Create a title, x label, and y label for our chart\n",
    "plt.title(\"City Latitude vs. Max Temperature (07/20/19)\")\n",
    "plt.xlabel(\"Latitude\")\n",
    "plt.ylabel(\"Max Temperature (F)\")\n",
    "plt.grid()\n",
    "\n",
    "# Save an image of the chart and print to screen\n",
    "plt.savefig(\"../Images/Latitude_vs_Temp_Plot.png\")\n",
    "plt.show()"
   ]
  },
  {
   "cell_type": "markdown",
   "metadata": {},
   "source": [
    "#### Latitude vs. Humidity Plot"
   ]
  },
  {
   "cell_type": "code",
   "execution_count": null,
   "metadata": {},
   "outputs": [],
   "source": [
    "# set latitude and Humidity\n",
    "lat_coordinates = weather_df[\"Lat\"]\n",
    "humidity_list = weather_df[\"Humidity\"]"
   ]
  },
  {
   "cell_type": "code",
   "execution_count": null,
   "metadata": {},
   "outputs": [],
   "source": [
    "# create a scatter plot based upon the above data\n",
    "plt.scatter(lat_coordinates, humidity_list, marker=\"o\", facecolors=\"cyan\", edgecolors=\"black\")\n",
    "\n",
    "# Create a title, x label, and y label for our chart\n",
    "plt.title(\"City Latitude vs. Humidity (07/20/19)\")\n",
    "plt.xlabel(\"Latitude\")\n",
    "plt.ylabel(\"Humidity (%)\")\n",
    "plt.grid()\n",
    "\n",
    "# Save an image of the chart and print to screen\n",
    "plt.savefig(\"../Images/Latitude_vs_Humidity_Plot.png\")\n",
    "plt.show()"
   ]
  },
  {
   "cell_type": "markdown",
   "metadata": {},
   "source": [
    "#### Latitude vs. Cloudiness Plot"
   ]
  },
  {
   "cell_type": "code",
   "execution_count": null,
   "metadata": {},
   "outputs": [],
   "source": [
    "# set latitude and Cloudiness\n",
    "lat_coordinates = weather_df[\"Lat\"]\n",
    "cloudiness_list = weather_df[\"Cloudiness\"]"
   ]
  },
  {
   "cell_type": "code",
   "execution_count": null,
   "metadata": {},
   "outputs": [],
   "source": [
    "# create a scatter plot based upon the above data\n",
    "plt.scatter(lat_coordinates, cloudiness_list, marker=\"o\", facecolors=\"darkseagreen\", edgecolors=\"black\")\n",
    "\n",
    "# Create a title, x label, and y label for our chart\n",
    "plt.title(\"City Latitude vs. Cloudiness (07/20/19)\")\n",
    "plt.xlabel(\"Latitude\")\n",
    "plt.ylabel(\"Cloudiness (%)\")\n",
    "plt.grid()\n",
    "\n",
    "# Save an image of the chart and print to screen\n",
    "plt.savefig(\"../Images/Latitude_vs_Cloudiness_Plot.png\")\n",
    "plt.show()"
   ]
  },
  {
   "cell_type": "markdown",
   "metadata": {},
   "source": [
    "#### Latitude vs. Wind Speed Plot"
   ]
  },
  {
   "cell_type": "code",
   "execution_count": null,
   "metadata": {},
   "outputs": [],
   "source": [
    "# set latitude and Wind Speed\n",
    "lat_coordinates = weather_df[\"Lat\"]\n",
    "wind_speed_list = weather_df[\"Wind_Speed\"]"
   ]
  },
  {
   "cell_type": "code",
   "execution_count": null,
   "metadata": {},
   "outputs": [],
   "source": [
    "# create a scatter plot based upon the above data\n",
    "plt.scatter(lat_coordinates, wind_speed_list, marker=\"o\", facecolors=\"magenta\", edgecolors=\"black\")\n",
    "\n",
    "# Create a title, x label, and y label for our chart\n",
    "plt.title(\"City Latitude vs. Wind Speed (07/20/19)\")\n",
    "plt.xlabel(\"Latitude\")\n",
    "plt.ylabel(\"Wind Speed (mph)\")\n",
    "plt.grid()\n",
    "\n",
    "# Save an image of the chart and print to screen\n",
    "plt.savefig(\"../Images/Latitude_vs_Wind_Speed_Plot.png\")\n",
    "plt.show()"
   ]
  },
  {
   "cell_type": "code",
   "execution_count": null,
   "metadata": {},
   "outputs": [],
   "source": []
  }
 ],
 "metadata": {
  "anaconda-cloud": {},
  "kernel_info": {
   "name": "python3"
  },
  "kernelspec": {
   "display_name": "Python 3",
   "language": "python",
   "name": "python3"
  },
  "language_info": {
   "codemirror_mode": {
    "name": "ipython",
    "version": 3
   },
   "file_extension": ".py",
   "mimetype": "text/x-python",
   "name": "python",
   "nbconvert_exporter": "python",
   "pygments_lexer": "ipython3",
   "version": "3.7.3"
  },
  "nteract": {
   "version": "0.12.3"
  }
 },
 "nbformat": 4,
 "nbformat_minor": 2
}
